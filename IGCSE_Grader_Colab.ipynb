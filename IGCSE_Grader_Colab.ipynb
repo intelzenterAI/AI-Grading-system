# IGCSE Short-Answer Grader - Colab Notebook
# ==========================================
# This notebook lets you run the grader in Google Colab.
# It supports grading, evaluation, and even running the FastAPI backend with ngrok.

# 🔹 STEP 1: Clone your repo
!git clone https://github.com/YOUR_USERNAME/igcse-short-answer-grader.git
%cd igcse-short-answer-grader

# 🔹 STEP 2: Install dependencies
!pip install -r requirements.txt
!pip install fastapi uvicorn pyngrok python-multipart pytesseract Pillow

# 🔹 STEP 3: Run grading directly (no backend)
from main import grade_all, evaluate

# Run grading
print("=== Grading Results ===")
results = grade_all("model_answers.json", "student_answers.json")
print(results)

# Run evaluation
print("\n=== Evaluation Results ===")
eval_results = evaluate("model_answers.json", "student_answers.json", "teacher_labels.json")
print(eval_results)

# 🔹 STEP 4: Launch backend API with ngrok (optional, for web interface)
from pyngrok import ngrok
import subprocess, time

# Create tunnel
public_url = ngrok.connect(8000)
print("FastAPI is live at:", public_url)

# Start server in background
process = subprocess.Popen(["uvicorn", "backend:app", "--host", "0.0.0.0", "--port", "8000"])
time.sleep(5)

# Check API docs link
print("Swagger docs:", public_url+"/docs")
